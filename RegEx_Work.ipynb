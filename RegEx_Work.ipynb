{
  "nbformat": 4,
  "nbformat_minor": 0,
  "metadata": {
    "colab": {
      "provenance": [],
      "authorship_tag": "ABX9TyOZL0Qzi11VF9XyrEnJA96i",
      "include_colab_link": true
    },
    "kernelspec": {
      "name": "python3",
      "display_name": "Python 3"
    },
    "language_info": {
      "name": "python"
    }
  },
  "cells": [
    {
      "cell_type": "markdown",
      "metadata": {
        "id": "view-in-github",
        "colab_type": "text"
      },
      "source": [
        "<a href=\"https://colab.research.google.com/github/bbhavii/Project-Work/blob/main/RegEx_Work.ipynb\" target=\"_parent\"><img src=\"https://colab.research.google.com/assets/colab-badge.svg\" alt=\"Open In Colab\"/></a>"
      ]
    },
    {
      "cell_type": "code",
      "source": [
        "import matplotlib.pyplot as plt\n",
        "import numpy as np\n",
        "import pandas as pd\n",
        "import re #new library for strings"
      ],
      "metadata": {
        "id": "x-rrfQOTIAOR"
      },
      "execution_count": 2,
      "outputs": []
    },
    {
      "cell_type": "markdown",
      "source": [
        "#Simple Introduction to Strings"
      ],
      "metadata": {
        "id": "7JUZHnShHvfV"
      }
    },
    {
      "cell_type": "code",
      "execution_count": 5,
      "metadata": {
        "colab": {
          "base_uri": "https://localhost:8080/"
        },
        "id": "J46meDwvHpLZ",
        "outputId": "d30cb95c-54c8-4d7f-b67d-563f43680db0"
      },
      "outputs": [
        {
          "output_type": "execute_result",
          "data": {
            "text/plain": [
              "94"
            ]
          },
          "metadata": {},
          "execution_count": 5
        }
      ],
      "source": [
        "text = 'This is a string, that I can use as an example to learn to improve this string. @bhavi #iscool'\n",
        "\n",
        "len(text)"
      ]
    },
    {
      "cell_type": "code",
      "source": [
        "#split using space\n",
        "text1 = text.split(' ')\n",
        "\n",
        "#split using more than one delimiter\n",
        "text2 = re.split(' |, |\\.',text)\n",
        "\n",
        "#long words\n",
        "longw = [ w for w in text2 if len(w)>3 ]\n",
        "\n",
        "#capitalised letters\n",
        "iscap = [ w for w in text2 if(w.istitle())]\n",
        "\n",
        "#end letters\n",
        "endsins = [w for w in text2 if(w.endswith('s'))]\n",
        "\n",
        "#find unique words\n",
        "uniquewords = set(text2)\n",
        "\n",
        "#find unique words regardless of capitalisation\n",
        "uniquewords2 = set(w.lower() for w in text2)\n",
        "\n",
        "#to find hashtags\n",
        "hashtags = [w for w in text2 if(w.startswith('#'))]\n",
        "\n",
        "#to find callouts\n",
        "callouts = [w for w in text2 if re.search('@[A-Za-z0-9_]+',w)]\n",
        "#or \n",
        "callouts = [w for w in text2 if re.search('@\\w+',w)]\n",
        "\n",
        "#find vowels\n",
        "vowels = re.findall(r'[aeiou]',text2[0])\n",
        "\n",
        "#find consonants\n",
        "consonants = re.findall(r'[^aeiou]',text2[0])\n"
      ],
      "metadata": {
        "colab": {
          "base_uri": "https://localhost:8080/"
        },
        "id": "kJiA_csZH7TG",
        "outputId": "98f0bcb7-7fa9-47e7-cd98-fa52ed302bfb"
      },
      "execution_count": 11,
      "outputs": [
        {
          "output_type": "stream",
          "name": "stdout",
          "text": [
            "['T', 'h', 's']\n"
          ]
        }
      ]
    },
    {
      "cell_type": "markdown",
      "source": [
        "List of useful functions"
      ],
      "metadata": {
        "id": "oQh39b9LOg6t"
      }
    },
    {
      "cell_type": "code",
      "source": [
        "string = 'yay'\n",
        "string2 = 'nay'\n",
        "string.startswith('')\n",
        "string.endswith('')\n",
        "print('t' in string)\n",
        "string.isupper()\n",
        "string.islower()\n",
        "string.istitle()\n",
        "string.isalpha()\n",
        "string.isdigit()\n",
        "string.isalnum()\n",
        "string.lower()\n",
        "string.upper()\n",
        "string.title()\n",
        "string.split(string2)\n",
        "string.splitlines()\n",
        "string.join(string2) #join all the strings in string2 using string \n",
        "string.strip() #remove white space from left and right\n",
        "string.rstrip() #remove white space from right\n",
        "string.find(string2)\n",
        "string.rfind(string2)\n",
        "string.replace('u','v')\n",
        "list(string) #gives list of char\n",
        "[c for c in string] #gives list of char\n",
        "[w for w in string if re.search('@[A-Za-z0-9_]+', w)] #returns all the substrings where there is an @ followed by capital, small, numbers, underscore\n"
      ],
      "metadata": {
        "id": "5XBobKgUKbBe"
      },
      "execution_count": null,
      "outputs": []
    },
    {
      "cell_type": "markdown",
      "source": [
        "String ops on larger text files."
      ],
      "metadata": {
        "id": "BfrbOmN8peP2"
      }
    },
    {
      "cell_type": "code",
      "source": [
        "f = open('filename.txt', 'r') #here r is read mode, w is write mode\n",
        "f.readline() #reads first line with \\n, if you don't it then you can do string.rstrip()\n",
        "f.seek(0) #takes pointer to the start of file\n",
        "text = f.read(n) #reads n characters\n",
        "text = f.read() #reads the whole thing\n",
        "len(text) #gives length of char\n",
        "text1 = text.splitlines() #to extract each part seperated by \\n\n",
        "len(text1) #gives length of lines\n",
        "text1[0] #gives the first line\n",
        "for line in f:\n",
        "    yay(line)\n",
        "f.write('string') #write the string in the file\n",
        "f.closed #closes the file"
      ],
      "metadata": {
        "id": "PGWe_gN4OzNZ"
      },
      "execution_count": null,
      "outputs": []
    },
    {
      "cell_type": "markdown",
      "source": [
        "Dates"
      ],
      "metadata": {
        "id": "WSDWm-mvaR3N"
      }
    },
    {
      "cell_type": "code",
      "source": [
        "# two digits and a / or a -, like 16/07/2000 or 07-16-00\n",
        "string = ' 16/07/2000\\n, 16 July 2000 16-07-00, July 16, 2000, 16 Jul 2000'\n",
        "\n",
        "date = re.findall(r'\\d{2}[/-]\\d{2}[/-]\\d{4}',string)\n",
        "#or to include year in 2 digits\n",
        "date = re.findall(r'\\d{2}[/-]\\d{2}[/-]\\d{2,4}',string)\n",
        "#or for the most general dates\n",
        "date = re.findall(r'\\d{1,2}[/-]\\d{1,2}[/-]\\d{2,4}',string)\n",
        "\n",
        "#for written dates\n",
        "date = re.findall(r'\\d{1,2} (?:Jan|Feb|Jul)[a-z]* \\d{2,4}',string)\n",
        "\n",
        "#for more general dates\n",
        "date = re.findall(r'(?:\\d{1,2} )?(?:Jan|Feb|Jul)[a-z]* (?:\\d{1,2}, )?\\d{2,4}',string)"
      ],
      "metadata": {
        "colab": {
          "base_uri": "https://localhost:8080/"
        },
        "id": "QcsTMMnqaTEn",
        "outputId": "d1e05944-9e5f-4b68-f71c-c46cba5e8052"
      },
      "execution_count": 46,
      "outputs": [
        {
          "output_type": "stream",
          "name": "stdout",
          "text": [
            "['16 July 2000', 'July 16, 2000', '16 Jul 2000']\n"
          ]
        }
      ]
    },
    {
      "cell_type": "markdown",
      "source": [
        "#Meta Characters:\n",
        "\n"
      ],
      "metadata": {
        "id": "pZem1QrbW6OI"
      }
    },
    {
      "cell_type": "markdown",
      "source": [
        ". : wildcard, matches a single character\n",
        "\n",
        "^ : start of a string\n",
        "\n",
        "$ : end of a string\n",
        "\n",
        "[] : matches any one character in the []\n",
        "\n",
        "[a-z] : matches a character in range a,b,...,z\n",
        "\n",
        "[^abc] : matches a character that is not a,b or c\n",
        "\n",
        "a|b : matches either a or b\n",
        "\n",
        "() : scoping of ops\n",
        "\n",
        "\\ : for special characters like \\t,\\n etc\n",
        "\n",
        "\\b : word boundary\n",
        "\n",
        "\\d : any digit\n",
        "\n",
        "\\D : anything not 0-9 or digit\n",
        "\n",
        "\\s : any whitespace including \\t,\\n,\\r,\\f,\\v\n",
        "\n",
        "\\S : any non-whitespace character ^\\t,\\n,\\r,\\f,\\v\n",
        "\n",
        "\\w : matches any alphanumeric character [A-Za-z0-9_]\n",
        "\n",
        "\\W : matches any non-aphanumeric character [^A-Za-z0-9_]"
      ],
      "metadata": {
        "id": "IxD3ynipYmGM"
      }
    },
    {
      "cell_type": "markdown",
      "source": [
        "#Repetitions\n",
        "\n"
      ],
      "metadata": {
        "id": "5NrFoW00YWn2"
      }
    },
    {
      "cell_type": "markdown",
      "source": [
        "\\* : 0 or more occurances\n",
        "\n",
        "\\+ : 1 or more occurances\n",
        "\n",
        "? : 0 or 1 occurances\n",
        "\n",
        "{n} : exactly n repetitions, n>=0\n",
        "\n",
        "{n,} : at least n repetitions\n",
        "\n",
        "{,n} : at most n repetitions\n",
        "\n",
        "{m,n} : at least m and at most n"
      ],
      "metadata": {
        "id": "_apOhh5JYsTy"
      }
    },
    {
      "cell_type": "code",
      "source": [],
      "metadata": {
        "id": "VDRFUoUpYUJV"
      },
      "execution_count": null,
      "outputs": []
    }
  ]
}