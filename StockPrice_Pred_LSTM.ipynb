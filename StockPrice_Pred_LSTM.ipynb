{
  "nbformat": 4,
  "nbformat_minor": 0,
  "metadata": {
    "colab": {
      "provenance": [],
      "authorship_tag": "ABX9TyM8BwbKdYnpPsGcsmqQnIJ3",
      "include_colab_link": true
    },
    "kernelspec": {
      "name": "python3",
      "display_name": "Python 3"
    },
    "language_info": {
      "name": "python"
    }
  },
  "cells": [
    {
      "cell_type": "markdown",
      "metadata": {
        "id": "view-in-github",
        "colab_type": "text"
      },
      "source": [
        "<a href=\"https://colab.research.google.com/github/bbhavii/Project-Work/blob/main/StockPrice_Pred_LSTM.ipynb\" target=\"_parent\"><img src=\"https://colab.research.google.com/assets/colab-badge.svg\" alt=\"Open In Colab\"/></a>"
      ]
    },
    {
      "cell_type": "code",
      "execution_count": null,
      "metadata": {
        "id": "Oi0n-oK04ifs"
      },
      "outputs": [],
      "source": [
        "import pandas as pd\n",
        "import numpy as np\n",
        "import matplotlib.pyplot as plt"
      ]
    },
    {
      "cell_type": "code",
      "source": [
        "dataset_train = pd.read_csv('Google_Stock_Price_Train.csv')\n",
        "display(dataset_train.head())\n",
        "training_set = dataset_train.iloc[:,1:2].values\n",
        "display(training_set)"
      ],
      "metadata": {
        "colab": {
          "base_uri": "https://localhost:8080/",
          "height": 331
        },
        "id": "NHJWhqE64raR",
        "outputId": "b330c395-bc51-42b5-ce3a-98dc9e219877"
      },
      "execution_count": null,
      "outputs": [
        {
          "output_type": "display_data",
          "data": {
            "text/plain": [
              "       Date    Open    High     Low   Close      Volume\n",
              "0  1/3/2012  325.25  332.83  324.97  663.59   7,380,500\n",
              "1  1/4/2012  331.27  333.87  329.08  666.45   5,749,400\n",
              "2  1/5/2012  329.83  330.75  326.89  657.21   6,590,300\n",
              "3  1/6/2012  328.34  328.77  323.68  648.24   5,405,900\n",
              "4  1/9/2012  322.04  322.29  309.46  620.76  11,688,800"
            ],
            "text/html": [
              "\n",
              "  <div id=\"df-9f16bf65-de4a-4538-83d7-e785065a5041\">\n",
              "    <div class=\"colab-df-container\">\n",
              "      <div>\n",
              "<style scoped>\n",
              "    .dataframe tbody tr th:only-of-type {\n",
              "        vertical-align: middle;\n",
              "    }\n",
              "\n",
              "    .dataframe tbody tr th {\n",
              "        vertical-align: top;\n",
              "    }\n",
              "\n",
              "    .dataframe thead th {\n",
              "        text-align: right;\n",
              "    }\n",
              "</style>\n",
              "<table border=\"1\" class=\"dataframe\">\n",
              "  <thead>\n",
              "    <tr style=\"text-align: right;\">\n",
              "      <th></th>\n",
              "      <th>Date</th>\n",
              "      <th>Open</th>\n",
              "      <th>High</th>\n",
              "      <th>Low</th>\n",
              "      <th>Close</th>\n",
              "      <th>Volume</th>\n",
              "    </tr>\n",
              "  </thead>\n",
              "  <tbody>\n",
              "    <tr>\n",
              "      <th>0</th>\n",
              "      <td>1/3/2012</td>\n",
              "      <td>325.25</td>\n",
              "      <td>332.83</td>\n",
              "      <td>324.97</td>\n",
              "      <td>663.59</td>\n",
              "      <td>7,380,500</td>\n",
              "    </tr>\n",
              "    <tr>\n",
              "      <th>1</th>\n",
              "      <td>1/4/2012</td>\n",
              "      <td>331.27</td>\n",
              "      <td>333.87</td>\n",
              "      <td>329.08</td>\n",
              "      <td>666.45</td>\n",
              "      <td>5,749,400</td>\n",
              "    </tr>\n",
              "    <tr>\n",
              "      <th>2</th>\n",
              "      <td>1/5/2012</td>\n",
              "      <td>329.83</td>\n",
              "      <td>330.75</td>\n",
              "      <td>326.89</td>\n",
              "      <td>657.21</td>\n",
              "      <td>6,590,300</td>\n",
              "    </tr>\n",
              "    <tr>\n",
              "      <th>3</th>\n",
              "      <td>1/6/2012</td>\n",
              "      <td>328.34</td>\n",
              "      <td>328.77</td>\n",
              "      <td>323.68</td>\n",
              "      <td>648.24</td>\n",
              "      <td>5,405,900</td>\n",
              "    </tr>\n",
              "    <tr>\n",
              "      <th>4</th>\n",
              "      <td>1/9/2012</td>\n",
              "      <td>322.04</td>\n",
              "      <td>322.29</td>\n",
              "      <td>309.46</td>\n",
              "      <td>620.76</td>\n",
              "      <td>11,688,800</td>\n",
              "    </tr>\n",
              "  </tbody>\n",
              "</table>\n",
              "</div>\n",
              "      <button class=\"colab-df-convert\" onclick=\"convertToInteractive('df-9f16bf65-de4a-4538-83d7-e785065a5041')\"\n",
              "              title=\"Convert this dataframe to an interactive table.\"\n",
              "              style=\"display:none;\">\n",
              "        \n",
              "  <svg xmlns=\"http://www.w3.org/2000/svg\" height=\"24px\"viewBox=\"0 0 24 24\"\n",
              "       width=\"24px\">\n",
              "    <path d=\"M0 0h24v24H0V0z\" fill=\"none\"/>\n",
              "    <path d=\"M18.56 5.44l.94 2.06.94-2.06 2.06-.94-2.06-.94-.94-2.06-.94 2.06-2.06.94zm-11 1L8.5 8.5l.94-2.06 2.06-.94-2.06-.94L8.5 2.5l-.94 2.06-2.06.94zm10 10l.94 2.06.94-2.06 2.06-.94-2.06-.94-.94-2.06-.94 2.06-2.06.94z\"/><path d=\"M17.41 7.96l-1.37-1.37c-.4-.4-.92-.59-1.43-.59-.52 0-1.04.2-1.43.59L10.3 9.45l-7.72 7.72c-.78.78-.78 2.05 0 2.83L4 21.41c.39.39.9.59 1.41.59.51 0 1.02-.2 1.41-.59l7.78-7.78 2.81-2.81c.8-.78.8-2.07 0-2.86zM5.41 20L4 18.59l7.72-7.72 1.47 1.35L5.41 20z\"/>\n",
              "  </svg>\n",
              "      </button>\n",
              "      \n",
              "  <style>\n",
              "    .colab-df-container {\n",
              "      display:flex;\n",
              "      flex-wrap:wrap;\n",
              "      gap: 12px;\n",
              "    }\n",
              "\n",
              "    .colab-df-convert {\n",
              "      background-color: #E8F0FE;\n",
              "      border: none;\n",
              "      border-radius: 50%;\n",
              "      cursor: pointer;\n",
              "      display: none;\n",
              "      fill: #1967D2;\n",
              "      height: 32px;\n",
              "      padding: 0 0 0 0;\n",
              "      width: 32px;\n",
              "    }\n",
              "\n",
              "    .colab-df-convert:hover {\n",
              "      background-color: #E2EBFA;\n",
              "      box-shadow: 0px 1px 2px rgba(60, 64, 67, 0.3), 0px 1px 3px 1px rgba(60, 64, 67, 0.15);\n",
              "      fill: #174EA6;\n",
              "    }\n",
              "\n",
              "    [theme=dark] .colab-df-convert {\n",
              "      background-color: #3B4455;\n",
              "      fill: #D2E3FC;\n",
              "    }\n",
              "\n",
              "    [theme=dark] .colab-df-convert:hover {\n",
              "      background-color: #434B5C;\n",
              "      box-shadow: 0px 1px 3px 1px rgba(0, 0, 0, 0.15);\n",
              "      filter: drop-shadow(0px 1px 2px rgba(0, 0, 0, 0.3));\n",
              "      fill: #FFFFFF;\n",
              "    }\n",
              "  </style>\n",
              "\n",
              "      <script>\n",
              "        const buttonEl =\n",
              "          document.querySelector('#df-9f16bf65-de4a-4538-83d7-e785065a5041 button.colab-df-convert');\n",
              "        buttonEl.style.display =\n",
              "          google.colab.kernel.accessAllowed ? 'block' : 'none';\n",
              "\n",
              "        async function convertToInteractive(key) {\n",
              "          const element = document.querySelector('#df-9f16bf65-de4a-4538-83d7-e785065a5041');\n",
              "          const dataTable =\n",
              "            await google.colab.kernel.invokeFunction('convertToInteractive',\n",
              "                                                     [key], {});\n",
              "          if (!dataTable) return;\n",
              "\n",
              "          const docLinkHtml = 'Like what you see? Visit the ' +\n",
              "            '<a target=\"_blank\" href=https://colab.research.google.com/notebooks/data_table.ipynb>data table notebook</a>'\n",
              "            + ' to learn more about interactive tables.';\n",
              "          element.innerHTML = '';\n",
              "          dataTable['output_type'] = 'display_data';\n",
              "          await google.colab.output.renderOutput(dataTable, element);\n",
              "          const docLink = document.createElement('div');\n",
              "          docLink.innerHTML = docLinkHtml;\n",
              "          element.appendChild(docLink);\n",
              "        }\n",
              "      </script>\n",
              "    </div>\n",
              "  </div>\n",
              "  "
            ]
          },
          "metadata": {}
        },
        {
          "output_type": "display_data",
          "data": {
            "text/plain": [
              "array([[325.25],\n",
              "       [331.27],\n",
              "       [329.83],\n",
              "       ...,\n",
              "       [793.7 ],\n",
              "       [783.33],\n",
              "       [782.75]])"
            ]
          },
          "metadata": {}
        }
      ]
    },
    {
      "cell_type": "code",
      "source": [
        "from sklearn.preprocessing import MinMaxScaler\n",
        "\n",
        "sc = MinMaxScaler(feature_range = (0,1))\n",
        "training_set_scaled = sc.fit_transform(training_set)\n",
        "training_set_scaled\n"
      ],
      "metadata": {
        "colab": {
          "base_uri": "https://localhost:8080/"
        },
        "id": "HjFUlW5m5OFH",
        "outputId": "896198f4-9f36-4b50-eaa2-2ee20e334afb"
      },
      "execution_count": null,
      "outputs": [
        {
          "output_type": "execute_result",
          "data": {
            "text/plain": [
              "array([[0.08581368],\n",
              "       [0.09701243],\n",
              "       [0.09433366],\n",
              "       ...,\n",
              "       [0.95725128],\n",
              "       [0.93796041],\n",
              "       [0.93688146]])"
            ]
          },
          "metadata": {},
          "execution_count": 10
        }
      ]
    },
    {
      "cell_type": "code",
      "source": [
        "X_train = []\n",
        "y_train = []\n",
        "\n",
        "for i in range(60,1258):\n",
        "  X_train.append(training_set_scaled[i-60:i,0])\n",
        "  y_train.append(training_set_scaled[i,0])"
      ],
      "metadata": {
        "id": "qnVoJ1Xo7OBo"
      },
      "execution_count": null,
      "outputs": []
    },
    {
      "cell_type": "code",
      "source": [
        "X_train, y_train = np.array(X_train), np.array(y_train)\n",
        "print(len(y_train))\n",
        "print(len(X_train))"
      ],
      "metadata": {
        "colab": {
          "base_uri": "https://localhost:8080/"
        },
        "id": "suA7UihX90oK",
        "outputId": "bc5958d9-15b9-41ef-c3f3-e07f1259a9fd"
      },
      "execution_count": null,
      "outputs": [
        {
          "output_type": "stream",
          "name": "stdout",
          "text": [
            "1198\n",
            "1198\n"
          ]
        }
      ]
    },
    {
      "cell_type": "code",
      "source": [
        "y_train.shape"
      ],
      "metadata": {
        "colab": {
          "base_uri": "https://localhost:8080/"
        },
        "id": "8QJdT1JaAqNu",
        "outputId": "2fe3fcba-9f77-4193-8196-c1ad767311ce"
      },
      "execution_count": null,
      "outputs": [
        {
          "output_type": "execute_result",
          "data": {
            "text/plain": [
              "(1198,)"
            ]
          },
          "metadata": {},
          "execution_count": 20
        }
      ]
    },
    {
      "cell_type": "code",
      "source": [
        "X_train = np.reshape(X_train, (X_train.shape[0], X_train.shape[1], 1))"
      ],
      "metadata": {
        "id": "DZLdx5a4_K-S"
      },
      "execution_count": null,
      "outputs": []
    },
    {
      "cell_type": "code",
      "source": [
        "from keras.models import Sequential\n",
        "from keras.layers import Dense\n",
        "from keras.layers import LSTM\n",
        "from keras.layers import Dropout\n",
        "\n",
        "regressor = Sequential()\n",
        "\n",
        "regressor.add(LSTM(units = 50, return_sequences = True, input_shape = (X_train.shape[1],1)))\n",
        "regressor.add(Dropout(0.2))\n",
        "\n",
        "regressor.add(LSTM(units = 50, return_sequences = True))\n",
        "regressor.add(Dropout(0.2))\n",
        "\n",
        "regressor.add(LSTM(units = 50, return_sequences = True))\n",
        "regressor.add(Dropout(0.2))\n",
        "\n",
        "regressor.add(LSTM(units = 50))\n",
        "regressor.add(Dropout(0.2))\n",
        "\n",
        "regressor.add(Dense(units = 1))\n",
        "\n",
        "regressor.compile(optimizer = 'adam', loss = 'mean_squared_error')\n",
        "\n",
        "regressor.fit(X_train,y_train, epochs =50, batch_size = 32)"
      ],
      "metadata": {
        "colab": {
          "base_uri": "https://localhost:8080/"
        },
        "id": "65astHxT_9Ma",
        "outputId": "e3342a79-8a73-4eed-dcc1-7a5b7e0b1dd9"
      },
      "execution_count": null,
      "outputs": [
        {
          "output_type": "stream",
          "name": "stdout",
          "text": [
            "Epoch 1/50\n",
            "38/38 [==============================] - 14s 133ms/step - loss: 0.0449\n",
            "Epoch 2/50\n",
            "38/38 [==============================] - 5s 143ms/step - loss: 0.0071\n",
            "Epoch 3/50\n",
            "38/38 [==============================] - 6s 152ms/step - loss: 0.0059\n",
            "Epoch 4/50\n",
            "38/38 [==============================] - 5s 132ms/step - loss: 0.0053\n",
            "Epoch 5/50\n",
            "38/38 [==============================] - 6s 166ms/step - loss: 0.0061\n",
            "Epoch 6/50\n",
            "38/38 [==============================] - 5s 130ms/step - loss: 0.0050\n",
            "Epoch 7/50\n",
            "38/38 [==============================] - 6s 166ms/step - loss: 0.0049\n",
            "Epoch 8/50\n",
            "38/38 [==============================] - 7s 183ms/step - loss: 0.0046\n",
            "Epoch 9/50\n",
            "38/38 [==============================] - 11s 299ms/step - loss: 0.0047\n",
            "Epoch 10/50\n",
            "38/38 [==============================] - 5s 143ms/step - loss: 0.0043\n",
            "Epoch 11/50\n",
            "38/38 [==============================] - 6s 152ms/step - loss: 0.0042\n",
            "Epoch 12/50\n",
            "38/38 [==============================] - 5s 129ms/step - loss: 0.0038\n",
            "Epoch 13/50\n",
            "38/38 [==============================] - 6s 166ms/step - loss: 0.0037\n",
            "Epoch 14/50\n",
            "38/38 [==============================] - 7s 178ms/step - loss: 0.0039\n",
            "Epoch 15/50\n",
            "38/38 [==============================] - 8s 206ms/step - loss: 0.0039\n",
            "Epoch 16/50\n",
            "38/38 [==============================] - 5s 133ms/step - loss: 0.0034\n",
            "Epoch 17/50\n",
            "38/38 [==============================] - 6s 153ms/step - loss: 0.0039\n",
            "Epoch 18/50\n",
            "38/38 [==============================] - 5s 126ms/step - loss: 0.0036\n",
            "Epoch 19/50\n",
            "38/38 [==============================] - 6s 155ms/step - loss: 0.0035\n",
            "Epoch 20/50\n",
            "38/38 [==============================] - 5s 130ms/step - loss: 0.0044\n",
            "Epoch 21/50\n",
            "38/38 [==============================] - 5s 140ms/step - loss: 0.0039\n",
            "Epoch 22/50\n",
            "38/38 [==============================] - 6s 144ms/step - loss: 0.0032\n",
            "Epoch 23/50\n",
            "38/38 [==============================] - 5s 130ms/step - loss: 0.0032\n",
            "Epoch 24/50\n",
            "38/38 [==============================] - 6s 157ms/step - loss: 0.0031\n",
            "Epoch 25/50\n",
            "38/38 [==============================] - 5s 128ms/step - loss: 0.0031\n",
            "Epoch 26/50\n",
            "38/38 [==============================] - 6s 157ms/step - loss: 0.0033\n",
            "Epoch 27/50\n",
            "38/38 [==============================] - 5s 132ms/step - loss: 0.0032\n",
            "Epoch 28/50\n",
            "38/38 [==============================] - 6s 154ms/step - loss: 0.0033\n",
            "Epoch 29/50\n",
            "38/38 [==============================] - 5s 130ms/step - loss: 0.0029\n",
            "Epoch 30/50\n",
            "38/38 [==============================] - 6s 145ms/step - loss: 0.0028\n",
            "Epoch 31/50\n",
            "38/38 [==============================] - 5s 137ms/step - loss: 0.0031\n",
            "Epoch 32/50\n",
            "38/38 [==============================] - 5s 134ms/step - loss: 0.0028\n",
            "Epoch 33/50\n",
            "38/38 [==============================] - 6s 154ms/step - loss: 0.0029\n",
            "Epoch 34/50\n",
            "38/38 [==============================] - 5s 132ms/step - loss: 0.0029\n",
            "Epoch 35/50\n",
            "38/38 [==============================] - 6s 154ms/step - loss: 0.0027\n",
            "Epoch 36/50\n",
            "38/38 [==============================] - 5s 133ms/step - loss: 0.0028\n",
            "Epoch 37/50\n",
            "38/38 [==============================] - 6s 159ms/step - loss: 0.0028\n",
            "Epoch 38/50\n",
            "38/38 [==============================] - 5s 134ms/step - loss: 0.0026\n",
            "Epoch 39/50\n",
            "38/38 [==============================] - 6s 158ms/step - loss: 0.0028\n",
            "Epoch 40/50\n",
            "38/38 [==============================] - 5s 131ms/step - loss: 0.0026\n",
            "Epoch 41/50\n",
            "38/38 [==============================] - 5s 135ms/step - loss: 0.0026\n",
            "Epoch 42/50\n",
            "38/38 [==============================] - 6s 153ms/step - loss: 0.0026\n",
            "Epoch 43/50\n",
            "38/38 [==============================] - 5s 133ms/step - loss: 0.0025\n",
            "Epoch 44/50\n",
            "38/38 [==============================] - 6s 157ms/step - loss: 0.0026\n",
            "Epoch 45/50\n",
            "38/38 [==============================] - 5s 134ms/step - loss: 0.0026\n",
            "Epoch 46/50\n",
            "38/38 [==============================] - 6s 154ms/step - loss: 0.0024\n",
            "Epoch 47/50\n",
            "38/38 [==============================] - 5s 133ms/step - loss: 0.0023\n",
            "Epoch 48/50\n",
            "38/38 [==============================] - 6s 160ms/step - loss: 0.0025\n",
            "Epoch 49/50\n",
            "38/38 [==============================] - 5s 134ms/step - loss: 0.0023\n",
            "Epoch 50/50\n",
            "38/38 [==============================] - 6s 152ms/step - loss: 0.0025\n"
          ]
        },
        {
          "output_type": "execute_result",
          "data": {
            "text/plain": [
              "<keras.callbacks.History at 0x7f47a363f790>"
            ]
          },
          "metadata": {},
          "execution_count": 32
        }
      ]
    },
    {
      "cell_type": "code",
      "source": [
        "dataset_test = pd.read_csv('Google_Stock_Price_Test.csv')\n",
        "real_stock_price = dataset_test.iloc[:,1:2]\n",
        "\n",
        "dataset_total = pd.concat((dataset_train['Open'],dataset_test['Open']),axis =0)\n",
        "\n",
        "inputs = dataset_total[len(dataset_total)-len(dataset_test)-60:].values\n",
        "\n",
        "inputs = inputs.reshape(-1,1)\n",
        "inputs = sc.transform(inputs)\n",
        "\n",
        "X_test = []\n",
        "for i in range(60,80):\n",
        "  X_test.append(inputs[i-60:i,0])\n",
        "\n",
        "X_test = np.array(X_test)\n",
        "print(X_test.shape)\n",
        "X_test = np.reshape(X_test, (X_test.shape[0], X_test.shape[1], 1))\n",
        "print(X_test.shape)\n",
        "predicted_stock_price = regressor.predict(X_test)\n",
        "print(predicted_stock_price.shape)\n",
        "\n",
        "predicted_stock_price = sc.inverse_transform(predicted_stock_price)\n",
        "\n",
        "predicted_stock_price"
      ],
      "metadata": {
        "colab": {
          "base_uri": "https://localhost:8080/"
        },
        "id": "1Fdo2I0RBbvB",
        "outputId": "586c67cd-90c6-4e59-ad09-5a69dcd18237"
      },
      "execution_count": null,
      "outputs": [
        {
          "output_type": "stream",
          "name": "stdout",
          "text": [
            "(20, 60)\n",
            "(20, 60, 1)\n",
            "1/1 [==============================] - 0s 142ms/step\n",
            "(20, 1)\n"
          ]
        },
        {
          "output_type": "execute_result",
          "data": {
            "text/plain": [
              "array([[769.09296],\n",
              "       [767.15454],\n",
              "       [765.38324],\n",
              "       [764.0322 ],\n",
              "       [763.51526],\n",
              "       [764.3154 ],\n",
              "       [766.4539 ],\n",
              "       [769.4419 ],\n",
              "       [772.7625 ],\n",
              "       [775.9592 ],\n",
              "       [778.6933 ],\n",
              "       [780.7457 ],\n",
              "       [782.04926],\n",
              "       [782.7448 ],\n",
              "       [783.0261 ],\n",
              "       [783.6056 ],\n",
              "       [785.0626 ],\n",
              "       [787.7356 ],\n",
              "       [791.28406],\n",
              "       [794.3972 ]], dtype=float32)"
            ]
          },
          "metadata": {},
          "execution_count": 37
        }
      ]
    },
    {
      "cell_type": "code",
      "source": [
        "plt.plot(real_stock_price, color = 'red', label = 'Real Google Stock Price')\n",
        "plt.plot(predicted_stock_price, color = 'blue', label = 'Predicted Google Stock Price')\n",
        "plt.title('Google Stock Price Prediction')\n",
        "plt.xlabel('Time')\n",
        "plt.ylabel('Google Stock Price')\n",
        "plt.legend()\n",
        "plt.show()"
      ],
      "metadata": {
        "colab": {
          "base_uri": "https://localhost:8080/",
          "height": 472
        },
        "id": "EZuRuLJFLTFL",
        "outputId": "f90d7049-3608-444b-c448-23ef3791b15c"
      },
      "execution_count": null,
      "outputs": [
        {
          "output_type": "display_data",
          "data": {
            "text/plain": [
              "<Figure size 640x480 with 1 Axes>"
            ],
            "image/png": "[encoded data removed]"
          },
          "metadata": {}
        }
      ]
    },
    {
      "cell_type": "code",
      "source": [],
      "metadata": {
        "id": "6jLJMrjyPqiU"
      },
      "execution_count": null,
      "outputs": []
    }
  ]
}