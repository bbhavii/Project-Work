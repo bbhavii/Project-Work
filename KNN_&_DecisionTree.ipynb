{
  "nbformat": 4,
  "nbformat_minor": 0,
  "metadata": {
    "colab": {
      "provenance": [],
      "include_colab_link": true
    },
    "kernelspec": {
      "name": "python3",
      "display_name": "Python 3"
    },
    "language_info": {
      "name": "python"
    }
  },
  "cells": [
    {
      "cell_type": "markdown",
      "metadata": {
        "id": "view-in-github",
        "colab_type": "text"
      },
      "source": [
        "<a href=\"https://colab.research.google.com/github/bbhavii/Project-Work/blob/main/KNN_%26_DecisionTree.ipynb\" target=\"_parent\"><img src=\"https://colab.research.google.com/assets/colab-badge.svg\" alt=\"Open In Colab\"/></a>"
      ]
    },
    {
      "cell_type": "markdown",
      "source": [
        "KNN Algorithm:\n",
        "\n",
        "Step 1 − For implementing any algorithm, we need dataset. So during the first step of KNN, we must load the training as well as test data.\n",
        "\n",
        " 1.1 - Normalize the data points. Divide them into training and test dataset \n",
        "\n",
        "Step 2 − Next, we need to choose the value of K i.e. the nearest data points. K can be any integer.\n",
        "\n",
        "Step 3 − For each point in the test data do the following −\n",
        "\n",
        "3.1 − Calculate the distance between test data and each row of training data with the help of any of the method namely: Euclidean, Manhattan or Hamming distance. The most commonly used method to calculate distance is Euclidean.\n",
        "\n",
        "3.2 − Now, based on the distance value, sort them in ascending order.\n",
        "\n",
        "3.3 − Next, it will choose the top K rows from the sorted array.\n",
        "\n",
        "3.4 − Now, it will assign a class to the test point based on most frequent class of these rows."
      ],
      "metadata": {
        "id": "gE-APSHyGikE"
      }
    },
    {
      "cell_type": "code",
      "execution_count": null,
      "metadata": {
        "id": "RsgjTfM9UmJR"
      },
      "outputs": [],
      "source": [
        "import numpy as np\n",
        "import matplotlib.pyplot as plt\n",
        "import pandas as pd\n",
        "import math\n",
        "import seaborn as sns"
      ]
    },
    {
      "cell_type": "code",
      "source": [
        "path = \"https://archive.ics.uci.edu/ml/machine-learning-databases/iris/iris.data\"\n",
        "headernames = ['sepal-length', 'sepal-width', 'petal-length', 'petal-width', 'Class']\n",
        "dataset = pd.read_csv(path, names = headernames)\n",
        "dataset.head(n=100)"
      ],
      "metadata": {
        "colab": {
          "base_uri": "https://localhost:8080/",
          "height": 424
        },
        "id": "ckoHM6HMH-oO",
        "outputId": "6dbdc7e7-505d-4b3c-f4b1-8d871928aa72"
      },
      "execution_count": null,
      "outputs": [
        {
          "output_type": "execute_result",
          "data": {
            "text/plain": [
              "    sepal-length  sepal-width  petal-length  petal-width            Class\n",
              "0            5.1          3.5           1.4          0.2      Iris-setosa\n",
              "1            4.9          3.0           1.4          0.2      Iris-setosa\n",
              "2            4.7          3.2           1.3          0.2      Iris-setosa\n",
              "3            4.6          3.1           1.5          0.2      Iris-setosa\n",
              "4            5.0          3.6           1.4          0.2      Iris-setosa\n",
              "..           ...          ...           ...          ...              ...\n",
              "95           5.7          3.0           4.2          1.2  Iris-versicolor\n",
              "96           5.7          2.9           4.2          1.3  Iris-versicolor\n",
              "97           6.2          2.9           4.3          1.3  Iris-versicolor\n",
              "98           5.1          2.5           3.0          1.1  Iris-versicolor\n",
              "99           5.7          2.8           4.1          1.3  Iris-versicolor\n",
              "\n",
              "[100 rows x 5 columns]"
            ],
            "text/html": [
              "\n",
              "  <div id=\"df-cee90d96-20e3-4aaf-abed-8af6cac778d9\">\n",
              "    <div class=\"colab-df-container\">\n",
              "      <div>\n",
              "<style scoped>\n",
              "    .dataframe tbody tr th:only-of-type {\n",
              "        vertical-align: middle;\n",
              "    }\n",
              "\n",
              "    .dataframe tbody tr th {\n",
              "        vertical-align: top;\n",
              "    }\n",
              "\n",
              "    .dataframe thead th {\n",
              "        text-align: right;\n",
              "    }\n",
              "</style>\n",
              "<table border=\"1\" class=\"dataframe\">\n",
              "  <thead>\n",
              "    <tr style=\"text-align: right;\">\n",
              "      <th></th>\n",
              "      <th>sepal-length</th>\n",
              "      <th>sepal-width</th>\n",
              "      <th>petal-length</th>\n",
              "      <th>petal-width</th>\n",
              "      <th>Class</th>\n",
              "    </tr>\n",
              "  </thead>\n",
              "  <tbody>\n",
              "    <tr>\n",
              "      <th>0</th>\n",
              "      <td>5.1</td>\n",
              "      <td>3.5</td>\n",
              "      <td>1.4</td>\n",
              "      <td>0.2</td>\n",
              "      <td>Iris-setosa</td>\n",
              "    </tr>\n",
              "    <tr>\n",
              "      <th>1</th>\n",
              "      <td>4.9</td>\n",
              "      <td>3.0</td>\n",
              "      <td>1.4</td>\n",
              "      <td>0.2</td>\n",
              "      <td>Iris-setosa</td>\n",
              "    </tr>\n",
              "    <tr>\n",
              "      <th>2</th>\n",
              "      <td>4.7</td>\n",
              "      <td>3.2</td>\n",
              "      <td>1.3</td>\n",
              "      <td>0.2</td>\n",
              "      <td>Iris-setosa</td>\n",
              "    </tr>\n",
              "    <tr>\n",
              "      <th>3</th>\n",
              "      <td>4.6</td>\n",
              "      <td>3.1</td>\n",
              "      <td>1.5</td>\n",
              "      <td>0.2</td>\n",
              "      <td>Iris-setosa</td>\n",
              "    </tr>\n",
              "    <tr>\n",
              "      <th>4</th>\n",
              "      <td>5.0</td>\n",
              "      <td>3.6</td>\n",
              "      <td>1.4</td>\n",
              "      <td>0.2</td>\n",
              "      <td>Iris-setosa</td>\n",
              "    </tr>\n",
              "    <tr>\n",
              "      <th>...</th>\n",
              "      <td>...</td>\n",
              "      <td>...</td>\n",
              "      <td>...</td>\n",
              "      <td>...</td>\n",
              "      <td>...</td>\n",
              "    </tr>\n",
              "    <tr>\n",
              "      <th>95</th>\n",
              "      <td>5.7</td>\n",
              "      <td>3.0</td>\n",
              "      <td>4.2</td>\n",
              "      <td>1.2</td>\n",
              "      <td>Iris-versicolor</td>\n",
              "    </tr>\n",
              "    <tr>\n",
              "      <th>96</th>\n",
              "      <td>5.7</td>\n",
              "      <td>2.9</td>\n",
              "      <td>4.2</td>\n",
              "      <td>1.3</td>\n",
              "      <td>Iris-versicolor</td>\n",
              "    </tr>\n",
              "    <tr>\n",
              "      <th>97</th>\n",
              "      <td>6.2</td>\n",
              "      <td>2.9</td>\n",
              "      <td>4.3</td>\n",
              "      <td>1.3</td>\n",
              "      <td>Iris-versicolor</td>\n",
              "    </tr>\n",
              "    <tr>\n",
              "      <th>98</th>\n",
              "      <td>5.1</td>\n",
              "      <td>2.5</td>\n",
              "      <td>3.0</td>\n",
              "      <td>1.1</td>\n",
              "      <td>Iris-versicolor</td>\n",
              "    </tr>\n",
              "    <tr>\n",
              "      <th>99</th>\n",
              "      <td>5.7</td>\n",
              "      <td>2.8</td>\n",
              "      <td>4.1</td>\n",
              "      <td>1.3</td>\n",
              "      <td>Iris-versicolor</td>\n",
              "    </tr>\n",
              "  </tbody>\n",
              "</table>\n",
              "<p>100 rows × 5 columns</p>\n",
              "</div>\n",
              "      <button class=\"colab-df-convert\" onclick=\"convertToInteractive('df-cee90d96-20e3-4aaf-abed-8af6cac778d9')\"\n",
              "              title=\"Convert this dataframe to an interactive table.\"\n",
              "              style=\"display:none;\">\n",
              "        \n",
              "  <svg xmlns=\"http://www.w3.org/2000/svg\" height=\"24px\"viewBox=\"0 0 24 24\"\n",
              "       width=\"24px\">\n",
              "    <path d=\"M0 0h24v24H0V0z\" fill=\"none\"/>\n",
              "    <path d=\"M18.56 5.44l.94 2.06.94-2.06 2.06-.94-2.06-.94-.94-2.06-.94 2.06-2.06.94zm-11 1L8.5 8.5l.94-2.06 2.06-.94-2.06-.94L8.5 2.5l-.94 2.06-2.06.94zm10 10l.94 2.06.94-2.06 2.06-.94-2.06-.94-.94-2.06-.94 2.06-2.06.94z\"/><path d=\"M17.41 7.96l-1.37-1.37c-.4-.4-.92-.59-1.43-.59-.52 0-1.04.2-1.43.59L10.3 9.45l-7.72 7.72c-.78.78-.78 2.05 0 2.83L4 21.41c.39.39.9.59 1.41.59.51 0 1.02-.2 1.41-.59l7.78-7.78 2.81-2.81c.8-.78.8-2.07 0-2.86zM5.41 20L4 18.59l7.72-7.72 1.47 1.35L5.41 20z\"/>\n",
              "  </svg>\n",
              "      </button>\n",
              "      \n",
              "  <style>\n",
              "    .colab-df-container {\n",
              "      display:flex;\n",
              "      flex-wrap:wrap;\n",
              "      gap: 12px;\n",
              "    }\n",
              "\n",
              "    .colab-df-convert {\n",
              "      background-color: #E8F0FE;\n",
              "      border: none;\n",
              "      border-radius: 50%;\n",
              "      cursor: pointer;\n",
              "      display: none;\n",
              "      fill: #1967D2;\n",
              "      height: 32px;\n",
              "      padding: 0 0 0 0;\n",
              "      width: 32px;\n",
              "    }\n",
              "\n",
              "    .colab-df-convert:hover {\n",
              "      background-color: #E2EBFA;\n",
              "      box-shadow: 0px 1px 2px rgba(60, 64, 67, 0.3), 0px 1px 3px 1px rgba(60, 64, 67, 0.15);\n",
              "      fill: #174EA6;\n",
              "    }\n",
              "\n",
              "    [theme=dark] .colab-df-convert {\n",
              "      background-color: #3B4455;\n",
              "      fill: #D2E3FC;\n",
              "    }\n",
              "\n",
              "    [theme=dark] .colab-df-convert:hover {\n",
              "      background-color: #434B5C;\n",
              "      box-shadow: 0px 1px 3px 1px rgba(0, 0, 0, 0.15);\n",
              "      filter: drop-shadow(0px 1px 2px rgba(0, 0, 0, 0.3));\n",
              "      fill: #FFFFFF;\n",
              "    }\n",
              "  </style>\n",
              "\n",
              "      <script>\n",
              "        const buttonEl =\n",
              "          document.querySelector('#df-cee90d96-20e3-4aaf-abed-8af6cac778d9 button.colab-df-convert');\n",
              "        buttonEl.style.display =\n",
              "          google.colab.kernel.accessAllowed ? 'block' : 'none';\n",
              "\n",
              "        async function convertToInteractive(key) {\n",
              "          const element = document.querySelector('#df-cee90d96-20e3-4aaf-abed-8af6cac778d9');\n",
              "          const dataTable =\n",
              "            await google.colab.kernel.invokeFunction('convertToInteractive',\n",
              "                                                     [key], {});\n",
              "          if (!dataTable) return;\n",
              "\n",
              "          const docLinkHtml = 'Like what you see? Visit the ' +\n",
              "            '<a target=\"_blank\" href=https://colab.research.google.com/notebooks/data_table.ipynb>data table notebook</a>'\n",
              "            + ' to learn more about interactive tables.';\n",
              "          element.innerHTML = '';\n",
              "          dataTable['output_type'] = 'display_data';\n",
              "          await google.colab.output.renderOutput(dataTable, element);\n",
              "          const docLink = document.createElement('div');\n",
              "          docLink.innerHTML = docLinkHtml;\n",
              "          element.appendChild(docLink);\n",
              "        }\n",
              "      </script>\n",
              "    </div>\n",
              "  </div>\n",
              "  "
            ]
          },
          "metadata": {},
          "execution_count": 3
        }
      ]
    },
    {
      "cell_type": "code",
      "source": [
        "from sklearn.model_selection import train_test_split\n",
        "\n",
        "x = dataset.iloc[:, [1,3]].values #column 1 (sepal length) and 3 (petal length) are our 2 dimensions/features \n",
        "y = dataset.iloc[:, 4].values\n",
        "\n",
        "#normalizing testing and training dataset \n",
        "col1 = x[:, 0]\n",
        "col1_min = min(col1)\n",
        "col1_max = max(col1)\n",
        "col2 = x[:, 1]\n",
        "col2_min = min(col2)\n",
        "col2_max = max(col2)\n",
        "\n",
        "range_col1 = col1_max - col1_min\n",
        "range_col2 = col2_max - col2_min\n",
        "\n",
        "norm_x = [] #storing normalized data\n",
        "\n",
        "for i in range(len(col1)):\n",
        "  norm_x.append([(x[i][0]-col1_min)/(range_col1), (x[i][1]-col2_min)/(range_col2)])\n",
        "\n",
        "\n",
        "#splitting data set such that 30% is attributed to test whereas 70% is attributed to training.\n",
        "x_train, x_test, y_train, y_test = train_test_split(norm_x, y, test_size = 0.30)  \n"
      ],
      "metadata": {
        "id": "0HBnHULLI_vF"
      },
      "execution_count": null,
      "outputs": []
    },
    {
      "cell_type": "markdown",
      "source": [
        " Defining k can be a balancing act as different values can lead to overfitting or underfitting. Lower values of k can have high variance, but low bias, and larger values of k may lead to high bias and lower variance. The choice of k will largely depend on the input data as data with more outliers or noise will likely perform better with higher values of k. Overall, it is recommended to have an odd number for k to avoid ties in classification, and cross-validation tactics can help you choose the optimal k for your dataset.\n",
        "\n",
        "Now, let's begin the main body of KNN Algorithm. "
      ],
      "metadata": {
        "id": "KjHNm15cF65d"
      }
    },
    {
      "cell_type": "code",
      "source": [
        "# finding Euclidean Distance \n",
        "def EucledianDist(x, y): \n",
        "  euc_dist = (math.sqrt(pow((x[0]-y[0]),2) + pow((x[1]-y[1]),2)))\n",
        "  return euc_dist\n",
        "\n",
        "\n",
        "#find most common element in kClassifications\n",
        "def most_common(List):\n",
        "  counter = 0\n",
        "  classification = List[0]\n",
        "     \n",
        "  for i in List:\n",
        "      curr_frequency = List.count(i)\n",
        "      if(curr_frequency> counter):\n",
        "          counter = curr_frequency\n",
        "          classification = i\n",
        " \n",
        "  return classification"
      ],
      "metadata": {
        "id": "sxxwIV6QI8c2"
      },
      "execution_count": null,
      "outputs": []
    },
    {
      "cell_type": "code",
      "source": [
        "k = 7 #defining k. recommended to be an odd number. \n",
        "EucledianDistanceList = [] # storing all eucledian distances\n",
        "kNeighbours = []\n",
        "kClassifications = []\n",
        "\n",
        "for train in range(len(x_train)):\n",
        "  for test in range(len(x_test)):\n",
        "    eucledianDistance = EucledianDist(x_train[train], x_test[test])\n",
        "    EucledianDistanceList.append([eucledianDistance, y_test[test]])\n",
        "    EucledianDistanceList.sort()\n",
        "\n",
        "  kNeighbours = EucledianDistanceList[:k] # list with first k shortest distances from the training datapoint. \n",
        "  for n in range(len(kNeighbours)):\n",
        "    kClassifications.append(kNeighbours[n][1])\n",
        "  training_set_classification = most_common(kClassifications)\n",
        "  print('training data:', x_train[train], 'classification:', training_set_classification) # training data classified based on k nearest test datapoints\n",
        "  \n",
        "  kNeighbours = []\n",
        "  EucledianDistanceList= []\n",
        "  kClassifications = []\n",
        "\n"
      ],
      "metadata": {
        "id": "Jzkf2er9K8Ui",
        "colab": {
          "base_uri": "https://localhost:8080/"
        },
        "outputId": "60089eff-0fa8-4147-bc6a-826ec1984535"
      },
      "execution_count": null,
      "outputs": [
        {
          "output_type": "stream",
          "name": "stdout",
          "text": [
            "training data: [0.7499999999999998, 0.8750000000000001] classification: Iris-virginica\n",
            "training data: [0.4583333333333333, 0.5833333333333334] classification: Iris-versicolor\n",
            "training data: [0.41666666666666663, 0.0] classification: Iris-setosa\n",
            "training data: [0.5416666666666665, 1.0] classification: Iris-virginica\n",
            "training data: [0.4583333333333333, 0.0] classification: Iris-setosa\n",
            "training data: [0.3749999999999999, 0.5833333333333334] classification: Iris-versicolor\n",
            "training data: [0.5833333333333333, 0.08333333333333333] classification: Iris-setosa\n",
            "training data: [0.5833333333333333, 0.625] classification: Iris-versicolor\n",
            "training data: [0.41666666666666663, 0.625] classification: Iris-versicolor\n",
            "training data: [0.41666666666666663, 0.4583333333333333] classification: Iris-versicolor\n",
            "training data: [0.3333333333333332, 0.7916666666666666] classification: Iris-virginica\n",
            "training data: [0.6666666666666666, 0.04166666666666667] classification: Iris-setosa\n",
            "training data: [0.20833333333333331, 0.75] classification: Iris-virginica\n",
            "training data: [0.7083333333333333, 0.04166666666666667] classification: Iris-setosa\n",
            "training data: [0.41666666666666663, 0.5] classification: Iris-versicolor\n",
            "training data: [0.3749999999999999, 0.04166666666666667] classification: Iris-setosa\n",
            "training data: [0.3333333333333332, 0.5416666666666666] classification: Iris-versicolor\n",
            "training data: [0.41666666666666663, 0.7083333333333334] classification: Iris-virginica\n",
            "training data: [0.41666666666666663, 0.5416666666666666] classification: Iris-versicolor\n",
            "training data: [0.5, 0.5416666666666666] classification: Iris-versicolor\n",
            "training data: [0.7499999999999998, 0.04166666666666667] classification: Iris-setosa\n",
            "training data: [0.3333333333333332, 0.4583333333333333] classification: Iris-versicolor\n",
            "training data: [0.7499999999999998, 0.12500000000000003] classification: Iris-setosa\n",
            "training data: [0.3333333333333332, 0.7916666666666666] classification: Iris-virginica\n",
            "training data: [0.1249999999999999, 0.5] classification: Iris-versicolor\n",
            "training data: [0.5, 0.9166666666666666] classification: Iris-virginica\n",
            "training data: [0.6249999999999999, 0.08333333333333333] classification: Iris-setosa\n",
            "training data: [0.3333333333333332, 0.7083333333333334] classification: Iris-virginica\n",
            "training data: [0.3749999999999999, 0.5] classification: Iris-versicolor\n",
            "training data: [0.9166666666666666, 0.04166666666666667] classification: Iris-setosa\n",
            "training data: [0.5833333333333333, 0.04166666666666667] classification: Iris-setosa\n",
            "training data: [0.41666666666666663, 0.5416666666666666] classification: Iris-versicolor\n",
            "training data: [0.41666666666666663, 0.8333333333333334] classification: Iris-virginica\n",
            "training data: [0.4583333333333333, 0.0] classification: Iris-setosa\n",
            "training data: [0.41666666666666663, 0.5833333333333334] classification: Iris-versicolor\n",
            "training data: [0.41666666666666663, 0.8333333333333334] classification: Iris-virginica\n",
            "training data: [0.25, 0.375] classification: Iris-versicolor\n",
            "training data: [0.5416666666666665, 0.16666666666666669] classification: Iris-setosa\n",
            "training data: [0.4583333333333333, 0.8333333333333334] classification: Iris-virginica\n",
            "training data: [0.3333333333333332, 0.8750000000000001] classification: Iris-virginica\n",
            "training data: [0.1249999999999999, 0.08333333333333333] classification: Iris-setosa\n",
            "training data: [0.3333333333333332, 0.5833333333333334] classification: Iris-versicolor\n",
            "training data: [0.5833333333333333, 0.04166666666666667] classification: Iris-setosa\n",
            "training data: [0.4583333333333333, 0.04166666666666667] classification: Iris-setosa\n",
            "training data: [1.0, 0.12500000000000003] classification: Iris-setosa\n",
            "training data: [0.5, 0.9166666666666666] classification: Iris-virginica\n",
            "training data: [0.5833333333333333, 0.9583333333333333] classification: Iris-virginica\n",
            "training data: [0.8749999999999998, 0.0] classification: Iris-setosa\n",
            "training data: [0.2916666666666667, 0.625] classification: Iris-virginica\n",
            "training data: [0.5833333333333333, 0.04166666666666667] classification: Iris-setosa\n",
            "training data: [0.0833333333333334, 0.5833333333333334] classification: Iris-versicolor\n",
            "training data: [0.3333333333333332, 0.5] classification: Iris-versicolor\n",
            "training data: [0.0833333333333334, 0.5833333333333334] classification: Iris-versicolor\n",
            "training data: [0.20833333333333331, 0.4166666666666667] classification: Iris-versicolor\n",
            "training data: [0.5833333333333333, 0.12500000000000003] classification: Iris-setosa\n",
            "training data: [0.7499999999999998, 0.7916666666666666] classification: Iris-virginica\n",
            "training data: [0.2916666666666667, 0.375] classification: Iris-versicolor\n",
            "training data: [0.4583333333333333, 0.5833333333333334] classification: Iris-versicolor\n",
            "training data: [0.5, 0.7916666666666666] classification: Iris-virginica\n",
            "training data: [0.3749999999999999, 0.5] classification: Iris-versicolor\n",
            "training data: [0.6666666666666666, 0.04166666666666667] classification: Iris-setosa\n",
            "training data: [0.41666666666666663, 0.04166666666666667] classification: Iris-setosa\n",
            "training data: [0.6249999999999999, 0.04166666666666667] classification: Iris-setosa\n",
            "training data: [0.6249999999999999, 0.04166666666666667] classification: Iris-setosa\n",
            "training data: [0.1249999999999999, 0.375] classification: Iris-versicolor\n",
            "training data: [0.41666666666666663, 0.7083333333333334] classification: Iris-virginica\n",
            "training data: [0.25, 0.4583333333333333] classification: Iris-versicolor\n",
            "training data: [0.41666666666666663, 0.5833333333333334] classification: Iris-versicolor\n",
            "training data: [0.4583333333333333, 0.9166666666666666] classification: Iris-virginica\n",
            "training data: [0.7083333333333333, 0.04166666666666667] classification: Iris-setosa\n",
            "training data: [0.6249999999999999, 0.04166666666666667] classification: Iris-setosa\n",
            "training data: [0.3333333333333332, 0.8333333333333334] classification: Iris-virginica\n",
            "training data: [0.6249999999999999, 0.08333333333333333] classification: Iris-setosa\n",
            "training data: [0.4583333333333333, 0.5416666666666666] classification: Iris-versicolor\n",
            "training data: [0.20833333333333331, 0.5833333333333334] classification: Iris-versicolor\n",
            "training data: [0.1666666666666666, 0.4166666666666667] classification: Iris-versicolor\n",
            "training data: [0.5, 0.7083333333333334] classification: Iris-versicolor\n",
            "training data: [0.3749999999999999, 0.5] classification: Iris-versicolor\n",
            "training data: [0.3749999999999999, 0.5] classification: Iris-versicolor\n",
            "training data: [0.3749999999999999, 0.5] classification: Iris-versicolor\n",
            "training data: [0.3749999999999999, 0.7083333333333334] classification: Iris-virginica\n",
            "training data: [0.3333333333333332, 0.5833333333333334] classification: Iris-versicolor\n",
            "training data: [0.1249999999999999, 0.5] classification: Iris-versicolor\n",
            "training data: [0.2916666666666667, 0.75] classification: Iris-virginica\n",
            "training data: [0.41666666666666663, 0.7083333333333334] classification: Iris-virginica\n",
            "training data: [0.41666666666666663, 0.0] classification: Iris-setosa\n",
            "training data: [0.5, 0.04166666666666667] classification: Iris-setosa\n",
            "training data: [0.20833333333333331, 0.4166666666666667] classification: Iris-versicolor\n",
            "training data: [0.2916666666666667, 0.75] classification: Iris-virginica\n",
            "training data: [0.5416666666666665, 1.0] classification: Iris-virginica\n",
            "training data: [0.5, 0.04166666666666667] classification: Iris-setosa\n",
            "training data: [0.41666666666666663, 0.8333333333333334] classification: Iris-virginica\n",
            "training data: [0.6666666666666666, 1.0] classification: Iris-virginica\n",
            "training data: [0.5833333333333333, 0.04166666666666667] classification: Iris-setosa\n",
            "training data: [0.3333333333333332, 0.9583333333333333] classification: Iris-virginica\n",
            "training data: [0.5, 0.04166666666666667] classification: Iris-setosa\n",
            "training data: [0.2916666666666667, 0.7083333333333334] classification: Iris-virginica\n",
            "training data: [0.7499999999999998, 0.08333333333333333] classification: Iris-setosa\n",
            "training data: [0.2916666666666667, 0.4583333333333333] classification: Iris-versicolor\n",
            "training data: [0.1666666666666666, 0.375] classification: Iris-versicolor\n",
            "training data: [0.3333333333333332, 0.75] classification: Iris-virginica\n",
            "training data: [0.6249999999999999, 0.20833333333333334] classification: Iris-setosa\n",
            "training data: [0.41666666666666663, 0.9166666666666666] classification: Iris-virginica\n",
            "training data: [0.2916666666666667, 0.5] classification: Iris-versicolor\n",
            "training data: [0.2916666666666667, 0.5416666666666666] classification: Iris-versicolor\n"
          ]
        }
      ]
    },
    {
      "cell_type": "code",
      "source": [
        "\n",
        "x_train_df = pd.DataFrame(x_train,columns=['x','y'])\n",
        "x_train_df['class'] = y_train\n",
        "\n",
        "\n",
        "x_test_df = pd.DataFrame(x_test,columns=['x','y'])\n",
        "x_test_df['class'] = y_test\n",
        "\n",
        "plt.scatter(x_train_df.loc[(x_train_df['class']=='Iris-setosa')]['x'],\n",
        "            x_train_df.loc[(x_train_df['class']=='Iris-setosa')]['y'],color='black',label='Iris-setosa');\n",
        "plt.scatter(x_train_df.loc[(x_train_df['class']=='Iris-versicolor')]['x'],\n",
        "            x_train_df.loc[(x_train_df['class']=='Iris-versicolor')]['y'],color='blue',label='Iris-versicolor');\n",
        "plt.scatter(x_train_df.loc[(x_train_df['class']=='Iris-virginica')]['x'],\n",
        "            x_train_df.loc[(x_train_df['class']=='Iris-virginica')]['y'],color='orange',label='Iris-virginica');\n",
        "plt.legend()\n",
        "plt.xlabel(\"sepal-length\")\n",
        "plt.ylabel(\"petal-length\")\n",
        "plt.title(\"Training set classifications\")\n",
        "plt.show();\n",
        "\n",
        "plt.scatter(x_test_df.loc[(x_test_df['class']=='Iris-setosa')]['x'],\n",
        "            x_test_df.loc[(x_test_df['class']=='Iris-setosa')]['y'],color='black',label='Iris-setosa');\n",
        "plt.scatter(x_test_df.loc[(x_test_df['class']=='Iris-versicolor')]['x'],\n",
        "            x_test_df.loc[(x_test_df['class']=='Iris-versicolor')]['y'],color='blue',label='Iris-versicolor');\n",
        "plt.scatter(x_test_df.loc[(x_test_df['class']=='Iris-virginica')]['x'],\n",
        "            x_test_df.loc[(x_test_df['class']=='Iris-virginica')]['y'],color='orange',label='Iris-virginica');\n",
        "plt.legend()\n",
        "plt.xlabel(\"sepal-length\")\n",
        "plt.ylabel(\"petal-length\")\n",
        "plt.title(\"Testing set classifications\");"
      ],
      "metadata": {
        "colab": {
          "base_uri": "https://localhost:8080/",
          "height": 573
        },
        "id": "eziV-w6xPgm_",
        "outputId": "3d932131-4ac0-4e01-8501-d07d5f6a40ab"
      },
      "execution_count": null,
      "outputs": [
        {
          "output_type": "display_data",
          "data": {
            "text/plain": [
              "<Figure size 432x288 with 1 Axes>"
            ],
            "image/png": "[encoded data removed]"
          },
          "metadata": {
            "needs_background": "light"
          }
        },
        {
          "output_type": "display_data",
          "data": {
            "text/plain": [
              "<Figure size 432x288 with 1 Axes>"
            ],
            "image/png": "[encoded data removed]"
          },
          "metadata": {
            "needs_background": "light"
          }
        }
      ]
    },
    {
      "cell_type": "markdown",
      "source": [
        "Decision Tree\n",
        "\n",
        "1. For decision trees, you need to start with the root node with all the data.\n",
        "\n",
        "2. You then decide a Attribute Selection Measure, in our case, Gini Index, and impurity.\n",
        "\n",
        "3. You then split based on that attribute and continue splitting until the purity of the leaf nodes of the tree is significantly changing\n",
        "\n",
        "4. When the purity cannot get better, you stop\n",
        "\n",
        "5. You can choose to prune the tree to prevent overfitting "
      ],
      "metadata": {
        "id": "_mOUG2PL8tIP"
      }
    },
    {
      "cell_type": "code",
      "source": [
        "dataset.describe()"
      ],
      "metadata": {
        "id": "oXD7hfwbIEX3",
        "colab": {
          "base_uri": "https://localhost:8080/",
          "height": 300
        },
        "outputId": "69ea366f-c91e-4742-a671-5f535296e458"
      },
      "execution_count": null,
      "outputs": [
        {
          "output_type": "execute_result",
          "data": {
            "text/plain": [
              "       sepal-length  sepal-width  petal-length  petal-width\n",
              "count    150.000000   150.000000    150.000000   150.000000\n",
              "mean       5.843333     3.054000      3.758667     1.198667\n",
              "std        0.828066     0.433594      1.764420     0.763161\n",
              "min        4.300000     2.000000      1.000000     0.100000\n",
              "25%        5.100000     2.800000      1.600000     0.300000\n",
              "50%        5.800000     3.000000      4.350000     1.300000\n",
              "75%        6.400000     3.300000      5.100000     1.800000\n",
              "max        7.900000     4.400000      6.900000     2.500000"
            ],
            "text/html": [
              "\n",
              "  <div id=\"df-bb90df9a-de6f-4524-910d-59758b29f0e9\">\n",
              "    <div class=\"colab-df-container\">\n",
              "      <div>\n",
              "<style scoped>\n",
              "    .dataframe tbody tr th:only-of-type {\n",
              "        vertical-align: middle;\n",
              "    }\n",
              "\n",
              "    .dataframe tbody tr th {\n",
              "        vertical-align: top;\n",
              "    }\n",
              "\n",
              "    .dataframe thead th {\n",
              "        text-align: right;\n",
              "    }\n",
              "</style>\n",
              "<table border=\"1\" class=\"dataframe\">\n",
              "  <thead>\n",
              "    <tr style=\"text-align: right;\">\n",
              "      <th></th>\n",
              "      <th>sepal-length</th>\n",
              "      <th>sepal-width</th>\n",
              "      <th>petal-length</th>\n",
              "      <th>petal-width</th>\n",
              "    </tr>\n",
              "  </thead>\n",
              "  <tbody>\n",
              "    <tr>\n",
              "      <th>count</th>\n",
              "      <td>150.000000</td>\n",
              "      <td>150.000000</td>\n",
              "      <td>150.000000</td>\n",
              "      <td>150.000000</td>\n",
              "    </tr>\n",
              "    <tr>\n",
              "      <th>mean</th>\n",
              "      <td>5.843333</td>\n",
              "      <td>3.054000</td>\n",
              "      <td>3.758667</td>\n",
              "      <td>1.198667</td>\n",
              "    </tr>\n",
              "    <tr>\n",
              "      <th>std</th>\n",
              "      <td>0.828066</td>\n",
              "      <td>0.433594</td>\n",
              "      <td>1.764420</td>\n",
              "      <td>0.763161</td>\n",
              "    </tr>\n",
              "    <tr>\n",
              "      <th>min</th>\n",
              "      <td>4.300000</td>\n",
              "      <td>2.000000</td>\n",
              "      <td>1.000000</td>\n",
              "      <td>0.100000</td>\n",
              "    </tr>\n",
              "    <tr>\n",
              "      <th>25%</th>\n",
              "      <td>5.100000</td>\n",
              "      <td>2.800000</td>\n",
              "      <td>1.600000</td>\n",
              "      <td>0.300000</td>\n",
              "    </tr>\n",
              "    <tr>\n",
              "      <th>50%</th>\n",
              "      <td>5.800000</td>\n",
              "      <td>3.000000</td>\n",
              "      <td>4.350000</td>\n",
              "      <td>1.300000</td>\n",
              "    </tr>\n",
              "    <tr>\n",
              "      <th>75%</th>\n",
              "      <td>6.400000</td>\n",
              "      <td>3.300000</td>\n",
              "      <td>5.100000</td>\n",
              "      <td>1.800000</td>\n",
              "    </tr>\n",
              "    <tr>\n",
              "      <th>max</th>\n",
              "      <td>7.900000</td>\n",
              "      <td>4.400000</td>\n",
              "      <td>6.900000</td>\n",
              "      <td>2.500000</td>\n",
              "    </tr>\n",
              "  </tbody>\n",
              "</table>\n",
              "</div>\n",
              "      <button class=\"colab-df-convert\" onclick=\"convertToInteractive('df-bb90df9a-de6f-4524-910d-59758b29f0e9')\"\n",
              "              title=\"Convert this dataframe to an interactive table.\"\n",
              "              style=\"display:none;\">\n",
              "        \n",
              "  <svg xmlns=\"http://www.w3.org/2000/svg\" height=\"24px\"viewBox=\"0 0 24 24\"\n",
              "       width=\"24px\">\n",
              "    <path d=\"M0 0h24v24H0V0z\" fill=\"none\"/>\n",
              "    <path d=\"M18.56 5.44l.94 2.06.94-2.06 2.06-.94-2.06-.94-.94-2.06-.94 2.06-2.06.94zm-11 1L8.5 8.5l.94-2.06 2.06-.94-2.06-.94L8.5 2.5l-.94 2.06-2.06.94zm10 10l.94 2.06.94-2.06 2.06-.94-2.06-.94-.94-2.06-.94 2.06-2.06.94z\"/><path d=\"M17.41 7.96l-1.37-1.37c-.4-.4-.92-.59-1.43-.59-.52 0-1.04.2-1.43.59L10.3 9.45l-7.72 7.72c-.78.78-.78 2.05 0 2.83L4 21.41c.39.39.9.59 1.41.59.51 0 1.02-.2 1.41-.59l7.78-7.78 2.81-2.81c.8-.78.8-2.07 0-2.86zM5.41 20L4 18.59l7.72-7.72 1.47 1.35L5.41 20z\"/>\n",
              "  </svg>\n",
              "      </button>\n",
              "      \n",
              "  <style>\n",
              "    .colab-df-container {\n",
              "      display:flex;\n",
              "      flex-wrap:wrap;\n",
              "      gap: 12px;\n",
              "    }\n",
              "\n",
              "    .colab-df-convert {\n",
              "      background-color: #E8F0FE;\n",
              "      border: none;\n",
              "      border-radius: 50%;\n",
              "      cursor: pointer;\n",
              "      display: none;\n",
              "      fill: #1967D2;\n",
              "      height: 32px;\n",
              "      padding: 0 0 0 0;\n",
              "      width: 32px;\n",
              "    }\n",
              "\n",
              "    .colab-df-convert:hover {\n",
              "      background-color: #E2EBFA;\n",
              "      box-shadow: 0px 1px 2px rgba(60, 64, 67, 0.3), 0px 1px 3px 1px rgba(60, 64, 67, 0.15);\n",
              "      fill: #174EA6;\n",
              "    }\n",
              "\n",
              "    [theme=dark] .colab-df-convert {\n",
              "      background-color: #3B4455;\n",
              "      fill: #D2E3FC;\n",
              "    }\n",
              "\n",
              "    [theme=dark] .colab-df-convert:hover {\n",
              "      background-color: #434B5C;\n",
              "      box-shadow: 0px 1px 3px 1px rgba(0, 0, 0, 0.15);\n",
              "      filter: drop-shadow(0px 1px 2px rgba(0, 0, 0, 0.3));\n",
              "      fill: #FFFFFF;\n",
              "    }\n",
              "  </style>\n",
              "\n",
              "      <script>\n",
              "        const buttonEl =\n",
              "          document.querySelector('#df-bb90df9a-de6f-4524-910d-59758b29f0e9 button.colab-df-convert');\n",
              "        buttonEl.style.display =\n",
              "          google.colab.kernel.accessAllowed ? 'block' : 'none';\n",
              "\n",
              "        async function convertToInteractive(key) {\n",
              "          const element = document.querySelector('#df-bb90df9a-de6f-4524-910d-59758b29f0e9');\n",
              "          const dataTable =\n",
              "            await google.colab.kernel.invokeFunction('convertToInteractive',\n",
              "                                                     [key], {});\n",
              "          if (!dataTable) return;\n",
              "\n",
              "          const docLinkHtml = 'Like what you see? Visit the ' +\n",
              "            '<a target=\"_blank\" href=https://colab.research.google.com/notebooks/data_table.ipynb>data table notebook</a>'\n",
              "            + ' to learn more about interactive tables.';\n",
              "          element.innerHTML = '';\n",
              "          dataTable['output_type'] = 'display_data';\n",
              "          await google.colab.output.renderOutput(dataTable, element);\n",
              "          const docLink = document.createElement('div');\n",
              "          docLink.innerHTML = docLinkHtml;\n",
              "          element.appendChild(docLink);\n",
              "        }\n",
              "      </script>\n",
              "    </div>\n",
              "  </div>\n",
              "  "
            ]
          },
          "metadata": {},
          "execution_count": 50
        }
      ]
    },
    {
      "cell_type": "markdown",
      "source": [
        "Seeing the correlation in the columns of our data."
      ],
      "metadata": {
        "id": "B9z8ZT6Je-4Z"
      }
    },
    {
      "cell_type": "code",
      "source": [
        "plt.title(\"Seeing Correlation in Data\")\n",
        "sns.heatmap(dataset.corr(),annot=True);"
      ],
      "metadata": {
        "colab": {
          "base_uri": "https://localhost:8080/",
          "height": 281
        },
        "id": "9250jAiW_wi-",
        "outputId": "b2376563-b651-4aec-b65e-431e0b48fff1"
      },
      "execution_count": null,
      "outputs": [
        {
          "output_type": "display_data",
          "data": {
            "text/plain": [
              "<Figure size 432x288 with 2 Axes>"
            ],
            "image/png": "[encoded data removed]"
          },
          "metadata": {
            "needs_background": "light"
          }
        }
      ]
    },
    {
      "cell_type": "markdown",
      "source": [
        "Creating a code for gini index to find the best split and impurity in each column given the name."
      ],
      "metadata": {
        "id": "pA1BCuJOfErj"
      }
    },
    {
      "cell_type": "code",
      "source": [
        "\n",
        "def gini(column1,dataset,column2):\n",
        "  prob1 = len(dataset.loc[dataset[column2]=='Iris-setosa'])/len(dataset[column2])\n",
        "  prob2 = len(dataset.loc[dataset[column2]=='Iris-versicolor'])/len(dataset[column2])\n",
        "  prob3 = len(dataset.loc[dataset[column2]=='Iris-virginica'])/len(dataset[column2])\n",
        "  index = 1 - prob1**2 - prob2**2 -prob3**2\n",
        "  return index\n"
      ],
      "metadata": {
        "id": "PE15bm4mJLIM"
      },
      "execution_count": null,
      "outputs": []
    },
    {
      "cell_type": "code",
      "source": [
        "def impurity(column1, dataset, column2,limit):\n",
        "  \n",
        "  gln1 = len(dataset.loc[(dataset[column1]>limit)])\n",
        "  gln2 = len(dataset.loc[(dataset[column1]<=limit)])\n",
        "  gl1 = len(dataset.loc[(dataset[column1]>limit) & (dataset[column2]=='Iris-setosa')])\n",
        "  gl2 = len(dataset.loc[(dataset[column1]>limit) & (dataset[column2]=='Iris-versicolor')])\n",
        "  gl3 = len(dataset.loc[(dataset[column1]>limit) & (dataset[column2]=='Iris-virginica')])\n",
        "  ll1 = len(dataset.loc[(dataset[column1]<=limit) & (dataset[column2]=='Iris-setosa')])\n",
        "  ll2 = len(dataset.loc[(dataset[column1]<=limit) & (dataset[column2]=='Iris-versicolor')])\n",
        "  ll3 = len(dataset.loc[(dataset[column1]<=limit) & (dataset[column2]=='Iris-virginica')])\n",
        "  sum = len(dataset[column1])\n",
        "  prob1 = (gl1/(gl1+gl2+gl3))**2+(gl2/(gl1+gl2+gl3))**2+(gl3/(gl1+gl2+gl3))**2\n",
        "  prob2 = (ll1/(ll1+ll2+ll3))**2+(ll2/(ll1+ll2+ll3))**2+(ll3/(ll1+ll2+ll3))**2\n",
        "  giniim1 = 1 - prob1\n",
        "  giniim2 = 1 - prob2\n",
        "  index = ((gln1)/(sum))*giniim1 + ((gln2)/(sum)) *giniim2\n",
        "  return(round(index,5))"
      ],
      "metadata": {
        "id": "zK8i_aYm8zHo"
      },
      "execution_count": null,
      "outputs": []
    },
    {
      "cell_type": "code",
      "source": [
        "impurity('sepal-length',dataset,'Class',5)\n",
        "impurity('sepal-width',dataset,'Class',3)\n"
      ],
      "metadata": {
        "colab": {
          "base_uri": "https://localhost:8080/"
        },
        "id": "GTANF22l5Vro",
        "outputId": "8f20b332-c2a6-40af-d1cf-1251b7c014fa"
      },
      "execution_count": null,
      "outputs": [
        {
          "output_type": "execute_result",
          "data": {
            "text/plain": [
              "0.55506"
            ]
          },
          "metadata": {},
          "execution_count": 54
        }
      ]
    },
    {
      "cell_type": "markdown",
      "source": [
        "Showing the impurity in each column."
      ],
      "metadata": {
        "id": "vt5WGtDPgh5U"
      }
    },
    {
      "cell_type": "code",
      "source": [
        "impurityvals = []\n",
        "limit = [5,3,3,1]\n",
        "columns = ['sepal-length', 'sepal-width', 'petal-length', 'petal-width']\n",
        "for i in range(0,len(limit)):\n",
        "  impurityvals.append([impurity(columns[i],dataset,'Class',limit[i]),columns[i]])\n",
        "\n",
        "for i in range(0,len(impurityvals)):\n",
        "  small=i\n",
        "  for j in range(i,len(impurityvals)):\n",
        "    if(impurityvals[j][0]<impurityvals[small][0]):\n",
        "      small=j\n",
        "      \n",
        "  t = impurityvals[i]\n",
        "  impurityvals[i]=impurityvals[small]\n",
        "  impurityvals[small]=t\n",
        "\n",
        "for vals in impurityvals:\n",
        "  print('For ', vals[1], ' the impurity is ', vals[0]) "
      ],
      "metadata": {
        "id": "WnyG2HKsmtm9",
        "colab": {
          "base_uri": "https://localhost:8080/"
        },
        "outputId": "703a7259-24b3-49b6-8f47-ddd8681f6f90"
      },
      "execution_count": null,
      "outputs": [
        {
          "output_type": "stream",
          "name": "stdout",
          "text": [
            "For  petal-length  the impurity is  0.34304\n",
            "For  petal-width  the impurity is  0.39012\n",
            "For  sepal-length  the impurity is  0.54679\n",
            "For  sepal-width  the impurity is  0.55506\n"
          ]
        }
      ]
    },
    {
      "cell_type": "markdown",
      "source": [
        "Now we use object oriented programming to make a decision tree classifier.\n",
        "We use the previous gini index and impurity methods to find the split in the tree."
      ],
      "metadata": {
        "id": "6uLPG1TGh1Bi"
      }
    },
    {
      "cell_type": "code",
      "source": [
        "class Node():\n",
        "    def __init__(self, feature_index=None, threshold=None, left=None, right=None, gini=None, value=None,height=None):\n",
        "\n",
        "        self.feature_index = feature_index\n",
        "        self.threshold = threshold\n",
        "        self.left = left\n",
        "        self.right = right\n",
        "        self.gini = gini\n",
        "        self.height = height\n",
        "        self.value = value"
      ],
      "metadata": {
        "id": "T16FrEofBxII"
      },
      "execution_count": null,
      "outputs": []
    },
    {
      "cell_type": "code",
      "source": [
        "class MyDecisionTreeClassifier():\n",
        "  def __init__(self,samples_split = 2, max_depth = 2):\n",
        "\n",
        "     self.root = None\n",
        "     self.height = 0\n",
        "     self.samples_split = samples_split\n",
        "     self.max_depth = max_depth\n",
        "\n",
        "  def Tree(self,dataset,current_depth=0):\n",
        "\n",
        "    X,y = dataset[:,:-1],dataset[:,-1]\n",
        "    sample_count, feature_count = np.shape(X)\n",
        "\n",
        "    if(sample_count>=self.samples_split and current_depth<=self.max_depth):\n",
        "\n",
        "      best_split = self.get_best_split(dataset, sample_count, feature_count)\n",
        "\n",
        "      if(best_split['gini']>0):\n",
        "        left_subtree = self.Tree(best_split[\"dataset_left\"],current_depth+1)\n",
        "        right_subtree = self.Tree(best_split[\"dataset_right\"],current_depth+1)\n",
        "        self.height=self.height+1\n",
        "\n",
        "        return Node(best_split[\"feature_index\"],best_split[\"threshold\"],left_subtree,right_subtree,best_split[\"gini\"])\n",
        "\n",
        "      \n",
        "    leaf_value = self.calculate_leaf_value(y)\n",
        "\n",
        "    return Node(value=leaf_value)\n",
        "\n",
        "  def get_best_split(self,dataset, num_samples, num_features):\n",
        "\n",
        "    best_split = {}\n",
        "\n",
        "    max_gini = -float(\"inf\")\n",
        "\n",
        "    for feature_index in range(num_features):\n",
        "      feature_values = dataset[:, feature_index]\n",
        "      possible_thresholds = np.unique(feature_values)\n",
        "            # loop over all the feature values present in the data\n",
        "      for threshold in possible_thresholds:\n",
        "        dataset_left, dataset_right = self.split(dataset,feature_index, threshold)\n",
        "        if (len(dataset_left)>0 and len(dataset_right)>0):\n",
        "          Y,left_Y,right_Y = dataset[:,-1],dataset_left[:,-1], dataset_right[:,-1]\n",
        "\n",
        "          currrent_info_gain = self.information_gain(Y, left_Y, right_Y, \"gini\")\n",
        "          if currrent_info_gain>max_gini:\n",
        "            best_split['feature_index']=feature_index\n",
        "            best_split['threshold']=threshold\n",
        "            best_split['dataset_left']=dataset_left\n",
        "            best_split['dataset_right']=dataset_right\n",
        "            best_split['gini']=currrent_info_gain\n",
        "            max_gini = currrent_info_gain\n",
        "\n",
        "    return best_split    \n",
        "\n",
        " \n",
        "\n",
        "  def split(self,dataset,feature_index,threshold):\n",
        "\n",
        "    dataset_left = np.array([row for row in dataset if row[feature_index]<=threshold])\n",
        "    dataset_right = np.array([row for row in dataset if row[feature_index]>threshold])\n",
        "\n",
        "    return dataset_left,dataset_right\n",
        "\n",
        "  def information_gain(self,parent,child_l,child_r,kind='impurity'):\n",
        "\n",
        "    weight_l=len(child_l)/len(parent)\n",
        "    weight_r=len(child_r)/len(parent)\n",
        "\n",
        "    if(kind=='gini'):\n",
        "      gain = self.gini_index(parent)-(weight_l*self.gini_index(child_l) + weight_r*self.gini_index(child_r))\n",
        "    else:\n",
        "      gain = self.impurity(parent) - (weight_l*self.impurity(child_l) + weight_r*self.impurity(child_r))\n",
        "    return gain\n",
        "\n",
        "\n",
        "  def gini_index(self, y):\n",
        "\n",
        "    class_labels = np.unique(y)\n",
        "    index = 0\n",
        "    for labels in class_labels:\n",
        "      prob_labels = len(y[y==labels])/len(y)\n",
        "      index += prob_labels**2\n",
        "    return (1-index)\n",
        "\n",
        "  def impurity(self, y):\n",
        "\n",
        "    class_labels = np.unique(y)\n",
        "    impurity=0\n",
        "    for labels in class_labels:\n",
        "      prob_labels = len(y[y==labels])/len(y)\n",
        "      impurity += -prob_labels * np.log2(prob_labels)\n",
        "    return impurity\n",
        "  \n",
        "  def print_tree(self, tree=None, indent=\" \"):\n",
        "\n",
        "    if (not tree):\n",
        "      tree = self.root\n",
        "\n",
        "    if tree.value is not None:\n",
        "      print(tree.value)\n",
        "\n",
        "\n",
        "    else:\n",
        "      print(dataset.columns[tree.feature_index], \"<=\",tree.threshold,\"?\")\n",
        "      print(\"%sLeft Branch\" % (indent),\" :\", end=\"\")\n",
        "      self.print_tree(tree.left,indent+indent)\n",
        "      print(\"%sRight Branch:\" % (indent), end=\"\")\n",
        "      self.print_tree(tree.right,indent+indent)  \n",
        "\n",
        "      \n",
        "         \n",
        "\n",
        "  def make_prediction(self, X, tree):\n",
        "\n",
        "    if (tree.value!=None): return tree.value\n",
        "    feature_val=X[tree.feature_index]\n",
        "    if(feature_val<=tree.threshold):\n",
        "      return self.make_prediction(X,tree.left)\n",
        "    else:\n",
        "      return self.make_prediction(X,tree.right)\n",
        "\n",
        "  def fit(self, X,y):\n",
        "    dataset = np.concatenate((X,y),axis=1)\n",
        "    self.root=self.Tree(dataset)\n",
        "\n",
        "  def predict(self,X):\n",
        "    predictions = [self.make_prediction(x,self.root) for x in X]\n",
        "    return predictions\n",
        "\n",
        "  def calculate_leaf_value(self,y):\n",
        "\n",
        "    y=list(y)\n",
        "    return max(y, key=y.count)\n",
        "\n",
        "\n",
        "\n",
        "\n",
        "\n",
        "\n",
        "\n",
        "\n"
      ],
      "metadata": {
        "id": "UXzXPIK5IPfl"
      },
      "execution_count": null,
      "outputs": []
    },
    {
      "cell_type": "markdown",
      "source": [
        "Now we split our training and tests set from the given dataset."
      ],
      "metadata": {
        "id": "Sj_-tkS8ijRg"
      }
    },
    {
      "cell_type": "code",
      "source": [
        "X = dataset.iloc[:, :-1].values\n",
        "y = dataset.iloc[:, -1].values.reshape(-1,1)\n",
        "X_train, X_test, y_train, y_test = train_test_split(X,y,test_size=0.2,random_state=1)"
      ],
      "metadata": {
        "id": "eOSfzyyHcGSy"
      },
      "execution_count": null,
      "outputs": []
    },
    {
      "cell_type": "markdown",
      "source": [
        "We now implement the classifier we just created."
      ],
      "metadata": {
        "id": "gXJMNuVeioBX"
      }
    },
    {
      "cell_type": "code",
      "source": [
        "Iris_classifier = MyDecisionTreeClassifier(samples_split=3, max_depth=3)\n",
        "Iris_classifier.fit(X_train,y_train)\n",
        "print(\"The Decision Tree is as follows: \")\n",
        "Iris_classifier.print_tree()"
      ],
      "metadata": {
        "colab": {
          "base_uri": "https://localhost:8080/"
        },
        "id": "Bcy0c-zDd37v",
        "outputId": "97ab0a30-0a93-4c29-f089-9412ae1f04d9"
      },
      "execution_count": null,
      "outputs": [
        {
          "output_type": "stream",
          "name": "stdout",
          "text": [
            "The Decision Tree is as follows: \n",
            "petal-length <= 1.9 ?\n",
            " Left Branch  :Iris-setosa\n",
            " Right Branch:petal-width <= 1.6 ?\n",
            "  Left Branch  :petal-length <= 4.9 ?\n",
            "    Left Branch  :Iris-versicolor\n",
            "    Right Branch:sepal-length <= 6.0 ?\n",
            "        Left Branch  :Iris-virginica\n",
            "        Right Branch:Iris-virginica\n",
            "  Right Branch:petal-length <= 4.8 ?\n",
            "    Left Branch  :sepal-width <= 3.0 ?\n",
            "        Left Branch  :Iris-virginica\n",
            "        Right Branch:Iris-versicolor\n",
            "    Right Branch:Iris-virginica\n"
          ]
        }
      ]
    }
  ]
}